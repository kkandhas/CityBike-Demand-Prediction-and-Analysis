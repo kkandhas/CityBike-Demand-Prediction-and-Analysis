{
 "cells": [
  {
   "cell_type": "code",
   "execution_count": 1,
   "metadata": {
    "collapsed": false
   },
   "outputs": [
    {
     "data": {
      "text/plain": [
       "u'/Users/linzeyang'"
      ]
     },
     "execution_count": 1,
     "metadata": {},
     "output_type": "execute_result"
    }
   ],
   "source": [
    "pwd"
   ]
  },
  {
   "cell_type": "code",
   "execution_count": 2,
   "metadata": {
    "collapsed": false
   },
   "outputs": [
    {
     "name": "stdout",
     "output_type": "stream",
     "text": [
      "/Users/linzeyang/Desktop/BIA-660/Final Project/data\n"
     ]
    }
   ],
   "source": [
    "cd Desktop/BIA-660/Final Project/data"
   ]
  },
  {
   "cell_type": "code",
   "execution_count": 3,
   "metadata": {
    "collapsed": false
   },
   "outputs": [
    {
     "name": "stderr",
     "output_type": "stream",
     "text": [
      "/Users/linzeyang/anaconda/envs/py2.7/lib/python2.7/site-packages/sklearn/cross_validation.py:44: DeprecationWarning: This module was deprecated in version 0.18 in favor of the model_selection module into which all the refactored classes and functions are moved. Also note that the interface of the new CV iterators are different from that of this module. This module will be removed in 0.20.\n",
      "  \"This module will be removed in 0.20.\", DeprecationWarning)\n"
     ]
    }
   ],
   "source": [
    "import pandas as pd\n",
    "import numpy as np\n",
    "import re\n",
    "import datetime\n",
    "from sklearn.linear_model import LinearRegression\n",
    "from sklearn import metrics\n",
    "from sklearn.cross_validation import train_test_split\n",
    "from six.moves import urllib\n",
    "import json\n",
    "import collections\n",
    "import itertools\n",
    "import requests\n",
    "import time\n",
    "import pandas as pd\n",
    "from  __builtin__ import any as b_any\n",
    "import math\n",
    "from sklearn.cross_validation import cross_val_score\n",
    "from sklearn.ensemble import RandomForestRegressor\n",
    "import glob\n",
    "from collections import Counter\n",
    "import matplotlib.pyplot as plt\n",
    "%matplotlib inline"
   ]
  },
  {
   "cell_type": "code",
   "execution_count": 2,
   "metadata": {
    "collapsed": false
   },
   "outputs": [
    {
     "data": {
      "text/plain": [
       "[]"
      ]
     },
     "execution_count": 2,
     "metadata": {},
     "output_type": "execute_result"
    }
   ],
   "source": [
    "# glob.glob(\"2016*.csv\")"
   ]
  },
  {
   "cell_type": "code",
   "execution_count": 71,
   "metadata": {
    "collapsed": false
   },
   "outputs": [],
   "source": [
    "# glob.glob(\"../in/sales*.xlsx\")\n",
    "# all_data = pd.DataFrame()\n",
    "# for f in glob.glob(\"2016*.csv\"):\n",
    "#     df = pd.read_csv(f)\n",
    "#     all_data = all_data.append(df,ignore_index=True)"
   ]
  },
  {
   "cell_type": "code",
   "execution_count": 78,
   "metadata": {
    "collapsed": false
   },
   "outputs": [],
   "source": [
    "#del all_data['Birth Year']\n",
    "#del all_data['User Type']\n",
    "#del all_data['Gender']"
   ]
  },
  {
   "cell_type": "markdown",
   "metadata": {},
   "source": [
    "## Integrate Variables & Data Preprocess"
   ]
  },
  {
   "cell_type": "code",
   "execution_count": 4,
   "metadata": {
    "collapsed": false
   },
   "outputs": [
    {
     "name": "stdout",
     "output_type": "stream",
     "text": [
      "   station_id   start_day  bikeout\n",
      "0          72  2016-12-01      100\n",
      "1          72  2016-12-02       92\n",
      "2          72  2016-12-03       53\n",
      "3          72  2016-12-04       47\n",
      "4          72  2016-12-05       78\n",
      "   station_id   start_day  bikeout  bikein  bike_loss\n",
      "1          72  2016-12-02     92.0    85.0        7.0\n",
      "2          72  2016-12-03     53.0    50.0        3.0\n",
      "3          72  2016-12-04     47.0    60.0      -13.0\n",
      "4          72  2016-12-05     78.0    62.0       16.0\n"
     ]
    }
   ],
   "source": [
    "# =========== Pre-process ==========\n",
    "df = pd.read_csv('201612-citibike-tripdata.csv')\n",
    "#df = pd.read_csv('201608-citibike-tripdata.csv')\n",
    "#df = all_data\n",
    "# Missing values in columns\n",
    "#print(df.isnull().sum())\n",
    "# Snake_case the columns\n",
    "def camel_to_snake(name):\n",
    "    s1 = re.sub('(.)([A-Z][a-z]+)', r'\\1_\\2', name)\n",
    "    return re.sub('([a-z0-9])([A-Z])', r'\\1_\\2', s1).replace(' ','').lower()\n",
    "df.columns = [camel_to_snake(col) for col in df.columns]\n",
    "\n",
    "# Parse start_time and stop_time\n",
    "try:\n",
    "    df['start_datetime'] = [datetime.datetime.strptime(x, '%m/%d/%Y %H:%M:%S') for x in df.start_time]\n",
    "#except ValueError:\n",
    "    #df['start_datetime'] = [datetime.datetime.strptime(x, '%m/%d/%Y %H:%M') for x in df.start_time]\n",
    "except ValueError:\n",
    "     df['start_datetime'] = [datetime.datetime.strptime(x, '%Y-%m-%d %H:%M:%S') for x in df.start_time]\n",
    "df['start_day'] = [x.strftime('%Y-%m-%d') for x in df.start_datetime]\n",
    "\n",
    "# =========== Group by date and station ===========\n",
    "df['bikein'] = 1\n",
    "df['bikeout'] = 1\n",
    "\n",
    "df_bikeout = df.groupby(by=['start_stationid', 'start_day'])['bikeout'].count()\n",
    "df_bikeout = pd.DataFrame(df_bikeout)\n",
    "df_out = df_bikeout.reset_index(drop = False)\n",
    "df_out.rename_axis({'start_stationid':'station_id'}, axis='columns', inplace=True)\n",
    "print(df_out.head())\n",
    "\n",
    "df_bikein = df.groupby(by=['end_stationid', 'start_day'])['bikein'].count()\n",
    "df_bikein = pd.DataFrame(df_bikein)\n",
    "df_in = df_bikein.reset_index(drop = False)\n",
    "df_in.rename_axis({'end_stationid':'station_id'}, axis='columns', inplace=True)\n",
    "#print(df_in.head())\n",
    "\n",
    "\n",
    "# =========== Bike loss per day for each station ===========\n",
    "# Merge two DFs by station_id\n",
    "df_dayloss = df_out.merge(right=df_in, left_on=['station_id', 'start_day'], right_on=['station_id', 'start_day'],\n",
    "                          how='outer')\n",
    "df_dayloss = df_dayloss.sort_values(['station_id', 'start_day'])\n",
    "df_dayloss = df_dayloss.fillna(0)\n",
    "df_dayloss['bike_loss'] = df_dayloss['bikeout'] - df_dayloss['bikein']\n",
    "print(df_dayloss[1:5])"
   ]
  },
  {
   "cell_type": "code",
   "execution_count": 5,
   "metadata": {
    "collapsed": false
   },
   "outputs": [
    {
     "data": {
      "text/html": [
       "<div>\n",
       "<table border=\"1\" class=\"dataframe\">\n",
       "  <thead>\n",
       "    <tr style=\"text-align: right;\">\n",
       "      <th></th>\n",
       "      <th>station_id</th>\n",
       "      <th>start_day</th>\n",
       "      <th>bikeout</th>\n",
       "      <th>bikein</th>\n",
       "      <th>bike_loss</th>\n",
       "    </tr>\n",
       "  </thead>\n",
       "  <tbody>\n",
       "    <tr>\n",
       "      <th>1</th>\n",
       "      <td>72</td>\n",
       "      <td>2016-12-02</td>\n",
       "      <td>92.0</td>\n",
       "      <td>85.0</td>\n",
       "      <td>7.0</td>\n",
       "    </tr>\n",
       "    <tr>\n",
       "      <th>2</th>\n",
       "      <td>72</td>\n",
       "      <td>2016-12-03</td>\n",
       "      <td>53.0</td>\n",
       "      <td>50.0</td>\n",
       "      <td>3.0</td>\n",
       "    </tr>\n",
       "    <tr>\n",
       "      <th>3</th>\n",
       "      <td>72</td>\n",
       "      <td>2016-12-04</td>\n",
       "      <td>47.0</td>\n",
       "      <td>60.0</td>\n",
       "      <td>-13.0</td>\n",
       "    </tr>\n",
       "    <tr>\n",
       "      <th>4</th>\n",
       "      <td>72</td>\n",
       "      <td>2016-12-05</td>\n",
       "      <td>78.0</td>\n",
       "      <td>62.0</td>\n",
       "      <td>16.0</td>\n",
       "    </tr>\n",
       "  </tbody>\n",
       "</table>\n",
       "</div>"
      ],
      "text/plain": [
       "   station_id   start_day  bikeout  bikein  bike_loss\n",
       "1          72  2016-12-02     92.0    85.0        7.0\n",
       "2          72  2016-12-03     53.0    50.0        3.0\n",
       "3          72  2016-12-04     47.0    60.0      -13.0\n",
       "4          72  2016-12-05     78.0    62.0       16.0"
      ]
     },
     "execution_count": 5,
     "metadata": {},
     "output_type": "execute_result"
    }
   ],
   "source": [
    "df_dayloss[df_dayloss.station_id==72][1:5]"
   ]
  },
  {
   "cell_type": "code",
   "execution_count": 6,
   "metadata": {
    "collapsed": true
   },
   "outputs": [],
   "source": [
    "# append weekday_index column\n",
    "#wekday_name=pd.to_datetime(df_dayloss.start_day).dt.weekday_name   #name\n",
    "df_wekday_index=pd.to_datetime(df_dayloss.start_day).dt.weekday   # index Monday=0, Sunday=6\n",
    "# Append weekday column to df_dayloss\n",
    "df_dayloss['wek_index']=df_wekday_index"
   ]
  },
  {
   "cell_type": "code",
   "execution_count": 7,
   "metadata": {
    "collapsed": false
   },
   "outputs": [],
   "source": [
    "# =========== count docks Then append to dayloss============\n",
    "jsonurl = urllib.request.urlopen('https://gbfs.citibikenyc.com/gbfs/en/station_status.json')\n",
    "text = json.loads(jsonurl.read()) # <-- read from it\n",
    "data=text['data']\n",
    "#print(len(data['stations']))   664 stations\n",
    "#print(data['stations'][0]['station_id']) # station id\n",
    "\n",
    "# station id Extract:\n",
    "total_stations_id = []\n",
    "for i in range(len(data['stations'])):\n",
    "    id=data['stations'][i]['station_id']\n",
    "    total_stations_id.append(id)\n",
    "total_stations_id=[int(x) for x in total_stations_id]\n",
    "#print('station_id list:'+str(total_stations_id))\n",
    "\n",
    "# num_bikes_available Extract:\n",
    "total_num_bikes_available = []\n",
    "for i in range(len(data['stations'])):\n",
    "    num_bikes_available = data['stations'][i]['num_bikes_available']\n",
    "    total_num_bikes_available.append(num_bikes_available)\n",
    "#print('bikes availble:'+str(total_num_bikes_available))\n",
    "\n",
    "# num_docks_available Extract:\n",
    "total_docks_available = []\n",
    "for i in range(len(data['stations'])):\n",
    "    docks_availble=data['stations'][i]['num_docks_available']\n",
    "    total_docks_available.append(docks_availble)\n",
    "#print('docks availble:'+str(total_docks_available))\n",
    "\n",
    "total_docks=[x + y for x, y in zip(total_num_bikes_available, total_docks_available)]\n",
    "#print('total docks for each station:'+str(total_docks))\n",
    "#to_dict\n",
    "\n",
    "new_dict = dict(zip(total_stations_id,total_docks))\n",
    "#print('zip station_id and total docks:'+str(new_dict))\n",
    "\n",
    "# append docks to df_dayloss\n",
    "df_dayloss['docks'] = df_dayloss['station_id'].map(new_dict)"
   ]
  },
  {
   "cell_type": "code",
   "execution_count": 8,
   "metadata": {
    "collapsed": true
   },
   "outputs": [],
   "source": [
    "# Append holiday column to df_dayloss\n",
    "holiday = ['2016-01-01', '2016-01-18', '2016-02-12', '2016-02-15',\n",
    "          '2016-05-08', '2016-05-30', '2016-06-19', '2016-07-04',\n",
    "          '2016-09-05', '2016-10-10', '2016-11-11', '2016-11-24',\n",
    "          '2016-12-26']\n",
    "df_dayloss['holiday_idx'] = df_dayloss['start_day'].apply(lambda x: 1 if (x in holiday) else 0)"
   ]
  },
  {
   "cell_type": "code",
   "execution_count": 90,
   "metadata": {
    "collapsed": false
   },
   "outputs": [
    {
     "ename": "IndentationError",
     "evalue": "unexpected indent (<ipython-input-90-ce937f94b05c>, line 43)",
     "output_type": "error",
     "traceback": [
      "\u001b[0;36m  File \u001b[0;32m\"<ipython-input-90-ce937f94b05c>\"\u001b[0;36m, line \u001b[0;32m43\u001b[0m\n\u001b[0;31m    new_dict2 = dict(zip(dates, weather_per_station_set))\u001b[0m\n\u001b[0m    ^\u001b[0m\n\u001b[0;31mIndentationError\u001b[0m\u001b[0;31m:\u001b[0m unexpected indent\n"
     ]
    }
   ],
   "source": [
    "# High temp & weather condition added \n",
    "def weather_Data(df_climate):\n",
    "    dates = []\n",
    "    maxtempF = []\n",
    "    cltype = []\n",
    "    \n",
    "    dk = df_climate.drop_duplicates(['start_day'])\n",
    "\n",
    "    for x in dk['start_day']:\n",
    "        dates.append(x)\n",
    "        api_str = 'http://api.worldweatheronline.com/premium/v1/past-weather.ashx?key=af846e459d4f4a93b4c221033172104&q=NY&date=' + x + '&format=json'\n",
    "        # print api_str\n",
    "        time.sleep(0.02)\n",
    "        r = requests.get(api_str)\n",
    "        #print \"request over\"\n",
    "\n",
    "        k = r.json()\n",
    "       \n",
    "        maxtempF.append(k['data']['weather'][0]['maxtempF'])\n",
    "\n",
    "        size = len(k['data']['weather'][0]['hourly'])\n",
    "        climate = []\n",
    "        for l in range(size):\n",
    "            climate.append(str(k['data']['weather'][0]['hourly'][l]['weatherDesc'][0].values()).split(\" \"))\n",
    "        to_str = str(climate)\n",
    "        r1=to_str.replace('[','').replace(']','').replace('\"','').replace(\"u'\",'').replace(\"'\",'').replace(' ','')\n",
    "        r2=r1.split(\",\")\n",
    "        weather_condition_count=Counter(r2)\n",
    "        each_day_weather_set = []\n",
    "        most_common_weather=weather_condition_count.most_common(1)[0][0]\n",
    "        each_day_weather_set.append(most_common_weather)\n",
    "        #print weather_per_station_set\n",
    "#         if b_any(\"snow\" in x for x in climate):\n",
    "#             cltype.append(\"snow\")\n",
    "#         elif b_any(\"rain\" in x for x in climate):\n",
    "#             cltype.append(\"rain\")\n",
    "#         elif b_any(\"sunny\" in x for x in climate):\n",
    "#             cltype.append(\"sunny\")\n",
    "#         else:\n",
    "#             cltype.append(\"clear\")\n",
    "\n",
    "    new_dict = dict(zip(dates, maxtempF))\n",
    "         new_dict2 = dict(zip(dates, each_day_weather_set))\n",
    "         print new_dict2\n",
    "#     df_climate['High_temp'] = df_climate['start_day'].map(new_dict)\n",
    "#     df_climate['Climate_type'] = df_climate['start_day'].map(new_dict2)\n",
    "#     return df_climate\n"
   ]
  },
  {
   "cell_type": "code",
   "execution_count": 88,
   "metadata": {
    "collapsed": false
   },
   "outputs": [
    {
     "name": "stdout",
     "output_type": "stream",
     "text": [
      "['Sunny']\n",
      "['Sunny']\n",
      "['Sunny']\n",
      "['Overcast']\n",
      "['Light']\n",
      "['Overcast']\n",
      "['rain']\n",
      "['Freezing']\n",
      "['Clear']\n",
      "['Clear']\n",
      "['Overcast']\n",
      "['Overcast']\n",
      "['Overcast']\n",
      "['Sunny']\n",
      "['Clear']\n",
      "['Clear']\n",
      "['Fog']\n",
      "['Light']\n",
      "['Overcast']\n",
      "['Sunny']\n",
      "['Partly']\n",
      "['Overcast']\n",
      "['Clear']\n",
      "['Overcast']\n",
      "['Sunny']\n",
      "['Light']\n",
      "['Overcast']\n",
      "['Sunny']\n",
      "['rain']\n",
      "['Clear']\n",
      "['Overcast']\n"
     ]
    }
   ],
   "source": [
    "weather_Data(df_dayloss)"
   ]
  },
  {
   "cell_type": "code",
   "execution_count": 126,
   "metadata": {
    "collapsed": false
   },
   "outputs": [],
   "source": [
    "def weather_Data(df_climate):\n",
    "    dates = []\n",
    "    maxtempF = []\n",
    "    cltype = []\n",
    "    each_day_weather_set = []\n",
    "    dk = df_climate.drop_duplicates(['start_day'])\n",
    "\n",
    "    for x in dk['start_day']:\n",
    "        dates.append(x)\n",
    "        api_str = 'http://api.worldweatheronline.com/premium/v1/past-weather.ashx?key=af846e459d4f4a93b4c221033172104&q=NY&date=' + x + '&format=json'\n",
    "        # print api_str\n",
    "        time.sleep(0.02)\n",
    "        r = requests.get(api_str)\n",
    "        #print \"request over\"\n",
    "        \n",
    "        k = r.json()\n",
    "        \n",
    "        maxtempF.append(k['data']['weather'][0]['maxtempF'])\n",
    "\n",
    "        size = len(k['data']['weather'][0]['hourly'])\n",
    "        climate = []\n",
    "        for l in range(size):\n",
    "            climate.append(str(k['data']['weather'][0]['hourly'][l]['weatherDesc'][0].values()).split(\" \"))\n",
    "        to_str = str(climate)\n",
    "        r1=to_str.replace('[','').replace(']','').replace('\"','').replace(\"u'\",'').replace(\"'\",'').replace(' ','')\n",
    "        r2=r1.split(\",\")\n",
    "        weather_condition_count=Counter(r2)\n",
    "        most_common_weather=weather_condition_count.most_common(1)[0][0]\n",
    "        each_day_weather_set.append(most_common_weather)\n",
    "    #new_dict = dict(zip(dates, maxtempF))\n",
    "    new_dict2 = dict(zip(dates, each_day_weather_set))\n",
    "    #print each_day_weather_set\n",
    "    #print dates\n",
    "    print new_dict2\n",
    "\n"
   ]
  },
  {
   "cell_type": "code",
   "execution_count": 127,
   "metadata": {
    "collapsed": false
   },
   "outputs": [
    {
     "ename": "KeyError",
     "evalue": "'weather'",
     "output_type": "error",
     "traceback": [
      "\u001b[0;31m---------------------------------------------------------------------------\u001b[0m",
      "\u001b[0;31mKeyError\u001b[0m                                  Traceback (most recent call last)",
      "\u001b[0;32m<ipython-input-127-fd83052966ef>\u001b[0m in \u001b[0;36m<module>\u001b[0;34m()\u001b[0m\n\u001b[0;32m----> 1\u001b[0;31m \u001b[0mweather_Data\u001b[0m\u001b[0;34m(\u001b[0m\u001b[0mdf_dayloss\u001b[0m\u001b[0;34m)\u001b[0m\u001b[0;34m\u001b[0m\u001b[0m\n\u001b[0m",
      "\u001b[0;32m<ipython-input-126-00f913bd1e90>\u001b[0m in \u001b[0;36mweather_Data\u001b[0;34m(df_climate)\u001b[0m\n\u001b[1;32m     16\u001b[0m         \u001b[0mk\u001b[0m \u001b[0;34m=\u001b[0m \u001b[0mr\u001b[0m\u001b[0;34m.\u001b[0m\u001b[0mjson\u001b[0m\u001b[0;34m(\u001b[0m\u001b[0;34m)\u001b[0m\u001b[0;34m\u001b[0m\u001b[0m\n\u001b[1;32m     17\u001b[0m \u001b[0;34m\u001b[0m\u001b[0m\n\u001b[0;32m---> 18\u001b[0;31m         \u001b[0mmaxtempF\u001b[0m\u001b[0;34m.\u001b[0m\u001b[0mappend\u001b[0m\u001b[0;34m(\u001b[0m\u001b[0mk\u001b[0m\u001b[0;34m[\u001b[0m\u001b[0;34m'data'\u001b[0m\u001b[0;34m]\u001b[0m\u001b[0;34m[\u001b[0m\u001b[0;34m'weather'\u001b[0m\u001b[0;34m]\u001b[0m\u001b[0;34m[\u001b[0m\u001b[0;36m0\u001b[0m\u001b[0;34m]\u001b[0m\u001b[0;34m[\u001b[0m\u001b[0;34m'maxtempF'\u001b[0m\u001b[0;34m]\u001b[0m\u001b[0;34m)\u001b[0m\u001b[0;34m\u001b[0m\u001b[0m\n\u001b[0m\u001b[1;32m     19\u001b[0m \u001b[0;34m\u001b[0m\u001b[0m\n\u001b[1;32m     20\u001b[0m         \u001b[0msize\u001b[0m \u001b[0;34m=\u001b[0m \u001b[0mlen\u001b[0m\u001b[0;34m(\u001b[0m\u001b[0mk\u001b[0m\u001b[0;34m[\u001b[0m\u001b[0;34m'data'\u001b[0m\u001b[0;34m]\u001b[0m\u001b[0;34m[\u001b[0m\u001b[0;34m'weather'\u001b[0m\u001b[0;34m]\u001b[0m\u001b[0;34m[\u001b[0m\u001b[0;36m0\u001b[0m\u001b[0;34m]\u001b[0m\u001b[0;34m[\u001b[0m\u001b[0;34m'hourly'\u001b[0m\u001b[0;34m]\u001b[0m\u001b[0;34m)\u001b[0m\u001b[0;34m\u001b[0m\u001b[0m\n",
      "\u001b[0;31mKeyError\u001b[0m: 'weather'"
     ]
    }
   ],
   "source": [
    "weather_Data(df_dayloss)"
   ]
  },
  {
   "cell_type": "code",
   "execution_count": 84,
   "metadata": {
    "collapsed": false
   },
   "outputs": [
    {
     "name": "stdout",
     "output_type": "stream",
     "text": [
      "['Clear', 'Clear', 'Freezing', 'fog', 'Overcast', 'Partly', 'cloudy', 'Overcast', 'Overcast', 'Overcast']\n",
      "Overcast\n"
     ]
    }
   ],
   "source": [
    "to_str = str(climate)\n",
    "r1=to_str.replace('[','').replace(']','').replace('\"','').replace(\"u'\",'').replace(\"'\",'').replace(' ','')\n",
    "r2=r1.split(\",\")\n",
    "print r2\n",
    "weather_condition_count=Counter(r2)\n",
    "most_common_weather=weather_condition_count.most_common(1)[0][0]\n",
    "print most_common_weather"
   ]
  },
  {
   "cell_type": "markdown",
   "metadata": {},
   "source": [
    "## change categorical variables to dummy variables:\n",
    "\n",
    "    1. wek_index: Weekday:0; Weekend:1\n",
    "    2. holiday_index: Non-holiday:0; Holiday:1\n",
    "    3. High_temp: continuous\n",
    "    4. Climate_type: Snow: (1,0,0); Rain:(0,1,0); Sunny:(0,0,1); Clear:(0,0,0)\n"
   ]
  },
  {
   "cell_type": "code",
   "execution_count": 11,
   "metadata": {
    "collapsed": true
   },
   "outputs": [],
   "source": [
    "# Assign weekday = 0 and weekend = 1\n",
    "df_dayloss['wek_index']=df_dayloss['wek_index'].replace([1,2,3,4],[0,0,0,0])\n",
    "df_dayloss['wek_index']=df_dayloss['wek_index'].replace([5,6],[1,1])   # weekend"
   ]
  },
  {
   "cell_type": "code",
   "execution_count": 12,
   "metadata": {
    "collapsed": false
   },
   "outputs": [],
   "source": [
    "# Get Dummy Variables for 'Climate Type'\n",
    "dummy_weather=pd.get_dummies(df_dayloss['Climate_type'])\n",
    "df_dayloss = pd.concat([df_dayloss, dummy_weather], axis=1)   "
   ]
  },
  {
   "cell_type": "code",
   "execution_count": 13,
   "metadata": {
    "collapsed": false
   },
   "outputs": [],
   "source": [
    "# Make variables for regression in continuous columns\n",
    "cols = df_dayloss.columns.tolist()\n",
    "cols.insert(len(cols)-1, cols.pop(cols.index('Climate_type')))\n",
    "df_dayloss = df_dayloss.reindex(columns= cols)"
   ]
  },
  {
   "cell_type": "code",
   "execution_count": 14,
   "metadata": {
    "collapsed": false
   },
   "outputs": [
    {
     "data": {
      "text/html": [
       "<div>\n",
       "<table border=\"1\" class=\"dataframe\">\n",
       "  <thead>\n",
       "    <tr style=\"text-align: right;\">\n",
       "      <th></th>\n",
       "      <th>station_id</th>\n",
       "      <th>start_day</th>\n",
       "      <th>bikeout</th>\n",
       "      <th>bikein</th>\n",
       "      <th>bike_loss</th>\n",
       "      <th>wek_index</th>\n",
       "      <th>docks</th>\n",
       "      <th>holiday_idx</th>\n",
       "      <th>High_temp</th>\n",
       "      <th>clear</th>\n",
       "      <th>rain</th>\n",
       "      <th>snow</th>\n",
       "      <th>Climate_type</th>\n",
       "    </tr>\n",
       "  </thead>\n",
       "  <tbody>\n",
       "    <tr>\n",
       "      <th>1</th>\n",
       "      <td>72</td>\n",
       "      <td>2016-12-02</td>\n",
       "      <td>92.0</td>\n",
       "      <td>85.0</td>\n",
       "      <td>7.0</td>\n",
       "      <td>0</td>\n",
       "      <td>39.0</td>\n",
       "      <td>0</td>\n",
       "      <td>46</td>\n",
       "      <td>1</td>\n",
       "      <td>0</td>\n",
       "      <td>0</td>\n",
       "      <td>clear</td>\n",
       "    </tr>\n",
       "    <tr>\n",
       "      <th>2</th>\n",
       "      <td>72</td>\n",
       "      <td>2016-12-03</td>\n",
       "      <td>53.0</td>\n",
       "      <td>50.0</td>\n",
       "      <td>3.0</td>\n",
       "      <td>1</td>\n",
       "      <td>39.0</td>\n",
       "      <td>0</td>\n",
       "      <td>44</td>\n",
       "      <td>1</td>\n",
       "      <td>0</td>\n",
       "      <td>0</td>\n",
       "      <td>clear</td>\n",
       "    </tr>\n",
       "    <tr>\n",
       "      <th>3</th>\n",
       "      <td>72</td>\n",
       "      <td>2016-12-04</td>\n",
       "      <td>47.0</td>\n",
       "      <td>60.0</td>\n",
       "      <td>-13.0</td>\n",
       "      <td>1</td>\n",
       "      <td>39.0</td>\n",
       "      <td>0</td>\n",
       "      <td>42</td>\n",
       "      <td>1</td>\n",
       "      <td>0</td>\n",
       "      <td>0</td>\n",
       "      <td>clear</td>\n",
       "    </tr>\n",
       "    <tr>\n",
       "      <th>4</th>\n",
       "      <td>72</td>\n",
       "      <td>2016-12-05</td>\n",
       "      <td>78.0</td>\n",
       "      <td>62.0</td>\n",
       "      <td>16.0</td>\n",
       "      <td>0</td>\n",
       "      <td>39.0</td>\n",
       "      <td>0</td>\n",
       "      <td>49</td>\n",
       "      <td>1</td>\n",
       "      <td>0</td>\n",
       "      <td>0</td>\n",
       "      <td>clear</td>\n",
       "    </tr>\n",
       "  </tbody>\n",
       "</table>\n",
       "</div>"
      ],
      "text/plain": [
       "   station_id   start_day  bikeout  bikein  bike_loss  wek_index  docks  \\\n",
       "1          72  2016-12-02     92.0    85.0        7.0          0   39.0   \n",
       "2          72  2016-12-03     53.0    50.0        3.0          1   39.0   \n",
       "3          72  2016-12-04     47.0    60.0      -13.0          1   39.0   \n",
       "4          72  2016-12-05     78.0    62.0       16.0          0   39.0   \n",
       "\n",
       "   holiday_idx High_temp  clear  rain  snow Climate_type  \n",
       "1            0        46      1     0     0        clear  \n",
       "2            0        44      1     0     0        clear  \n",
       "3            0        42      1     0     0        clear  \n",
       "4            0        49      1     0     0        clear  "
      ]
     },
     "execution_count": 14,
     "metadata": {},
     "output_type": "execute_result"
    }
   ],
   "source": [
    "df_dayloss[1:5]"
   ]
  },
  {
   "cell_type": "code",
   "execution_count": 15,
   "metadata": {
    "collapsed": false
   },
   "outputs": [],
   "source": [
    "# Remove docks col and \n",
    "del df_dayloss['docks']"
   ]
  },
  {
   "cell_type": "markdown",
   "metadata": {},
   "source": [
    "## Some Visilizations\n",
    "    1. Average bike_loss for each station"
   ]
  },
  {
   "cell_type": "code",
   "execution_count": 16,
   "metadata": {
    "collapsed": false
   },
   "outputs": [
    {
     "data": {
      "text/plain": [
       "(-5, 5)"
      ]
     },
     "execution_count": 16,
     "metadata": {},
     "output_type": "execute_result"
    },
    {
     "data": {
      "image/png": "[encoded data removed]",
      "text/plain": [
       "<matplotlib.figure.Figure at 0x115f84550>"
      ]
     },
     "metadata": {},
     "output_type": "display_data"
    }
   ],
   "source": [
    "avg_loss=df_dayloss.groupby('station_id', as_index=False)['bike_loss'].mean()\n",
    "plt.scatter(avg_loss.station_id, avg_loss.bike_loss,s=50)\n",
    "axes = plt.gca()\n",
    "axes.set_xlim([0,3500])\n",
    "axes.set_ylim([-5,5])"
   ]
  },
  {
   "cell_type": "code",
   "execution_count": 17,
   "metadata": {
    "collapsed": false
   },
   "outputs": [
    {
     "name": "stdout",
     "output_type": "stream",
     "text": [
      "        station_id   bike_loss\n",
      "count   291.000000  291.000000\n",
      "mean    372.065292   -0.650924\n",
      "std     147.551134    5.484967\n",
      "min      72.000000  -49.677419\n",
      "25%     290.000000   -1.903226\n",
      "50%     376.000000    0.032258\n",
      "75%     459.500000    1.274194\n",
      "max    2000.000000   19.032258\n",
      "        station_id   bike_loss\n",
      "count   322.000000  322.000000\n",
      "mean   3185.173913    0.605777\n",
      "std     279.837081    3.272735\n",
      "min    2001.000000  -11.806452\n",
      "25%    3108.250000   -0.322581\n",
      "50%    3238.500000    0.193548\n",
      "75%    3349.750000    0.838710\n",
      "max    3440.000000   33.818182\n"
     ]
    }
   ],
   "source": [
    "small_sta_id=avg_loss[avg_loss.station_id<=2000]\n",
    "print small_sta_id.describe()\n",
    "large_sta_id=avg_loss[avg_loss.station_id>2000]\n",
    "print large_sta_id.describe()"
   ]
  },
  {
   "cell_type": "markdown",
   "metadata": {},
   "source": [
    "## Linear Regression \n",
    "\n",
    "    1. Linear regression for each station(December)\n",
    "    2. Coff Analysis (Larger coff represents for larger effect of that variable)\n",
    "    3. Significant test for each independent variable\n",
    "    4. R^2 & accuracy of Linear Regression Model (When test data coming in)\n"
   ]
  },
  {
   "cell_type": "code",
   "execution_count": 18,
   "metadata": {
    "collapsed": false,
    "scrolled": true
   },
   "outputs": [],
   "source": [
    "station_id_set = set(df_dayloss['station_id'])\n",
    "for i in station_id_set:\n",
    "    a=df_dayloss[df_dayloss['station_id']==i]\n",
    "    X=a.ix[:,5:10]\n",
    "    Y=a.ix[:,4]# Assign features to be X and target to be Y.\n",
    "    try:\n",
    "        mdl = LinearRegression().fit(X,Y)\n",
    "        m = mdl.coef_\n",
    "        b = mdl.intercept_\n",
    "        #print 'y={}x+{}'.format(m,b)\n",
    "    except:\n",
    "        continue"
   ]
  },
  {
   "cell_type": "markdown",
   "metadata": {},
   "source": [
    "##  Cross Validation -- Linear Regression"
   ]
  },
  {
   "cell_type": "code",
   "execution_count": 20,
   "metadata": {
    "collapsed": false
   },
   "outputs": [
    {
     "name": "stdout",
     "output_type": "stream",
     "text": [
      "Mean Score of Cross Validation using Linear Regression is:7.59309025795\n",
      "Standard Deviation Score of Cross Validation using Linear Regression is:4.9238952413\n"
     ]
    }
   ],
   "source": [
    "LR_CV_score_set = []\n",
    "LR_culmilative_set = []\n",
    "id_set = []\n",
    "# Count RMSE (Root Mean Squared Error) for every station \n",
    "for i in station_id_set:\n",
    "    a=df_dayloss[df_dayloss['station_id']==i]\n",
    "    X=a.ix[:,5:11]\n",
    "    y=a.ix[:,4]\n",
    "    linearReg = LinearRegression()\n",
    "    try:\n",
    "        mean_CV_score = math.sqrt(-(cross_val_score(linearReg, X, y, cv=10, scoring='neg_mean_squared_error').mean()))\n",
    "        #print 'CV score for station %s is: '%i +str(mean_CV_score)\n",
    "        LR_CV_score_set.append(mean_CV_score)\n",
    "        LR_culmilative_set.append(np.mean(LR_CV_score_set))\n",
    "        id_set.append(i)\n",
    "    except:\n",
    "        continue\n",
    "print 'Mean Score of Cross Validation using Linear Regression is:' + str(np.mean(LR_CV_score_set))\n",
    "print 'Standard Deviation Score of Cross Validation using Linear Regression is:' + str(np.std(LR_CV_score_set))"
   ]
  },
  {
   "cell_type": "markdown",
   "metadata": {},
   "source": [
    "## Random Forest\n",
    "\n",
    "    1. Importance of Each Feature\n",
    "    2. Accuracy of Random Forest Model"
   ]
  },
  {
   "cell_type": "markdown",
   "metadata": {},
   "source": [
    "## Cross Validation --- Random Forest"
   ]
  },
  {
   "cell_type": "code",
   "execution_count": 21,
   "metadata": {
    "collapsed": false
   },
   "outputs": [
    {
     "name": "stdout",
     "output_type": "stream",
     "text": [
      "Mean Score of Cross Validation using Random Forest is: 8.42052648536\n",
      "Standard Deviation Score of Cross Validation using Random Forest is: 5.70263211765\n"
     ]
    }
   ],
   "source": [
    "RF_CV_score_set = []\n",
    "RF_culmilative_set = []\n",
    "RF_id_set = []\n",
    "for i in station_id_set:\n",
    "    a=df_dayloss[df_dayloss['station_id']==i]\n",
    "    X=a.ix[:,5:11]\n",
    "    y=a.ix[:,4]\n",
    "    rf = RandomForestRegressor(n_estimators=30,max_features=4)\n",
    "    try:\n",
    "        mean_CV_score = math.sqrt(-(cross_val_score(rf, X, y, cv=10, scoring='neg_mean_squared_error').mean()))\n",
    "        #print 'CV score for station %s is: '%i +str(mean_CV_score)\n",
    "        RF_CV_score_set.append(mean_CV_score)\n",
    "        RF_culmilative_set.append(np.mean(RF_CV_score_set))\n",
    "        RF_id_set.append(i)\n",
    "    except:\n",
    "        continue\n",
    "print 'Mean Score of Cross Validation using Random Forest is: ' + str(np.mean(RF_CV_score_set))\n",
    "print 'Standard Deviation Score of Cross Validation using Random Forest is: ' + str(np.std(RF_CV_score_set))"
   ]
  },
  {
   "cell_type": "code",
   "execution_count": 22,
   "metadata": {
    "collapsed": false
   },
   "outputs": [
    {
     "data": {
      "image/png": "[encoded data removed]",
      "text/plain": [
       "<matplotlib.figure.Figure at 0x118c67c50>"
      ]
     },
     "metadata": {},
     "output_type": "display_data"
    }
   ],
   "source": [
    "# The total RMASE is counted by average rmse of all stations\n",
    "# For each model(LR & RF), the culmulative RMSE changes when new station coming in.\n",
    "from pylab import *\n",
    "t1 = LR_culmilative_set\n",
    "t2 = RF_culmilative_set\n",
    "s = RF_id_set\n",
    "plot(s, t1)\n",
    "plot(s,t2)\n",
    "xlabel('Station ID')\n",
    "ylabel('Culmilative RMSE')\n",
    "title('Python Line Chart: Culmulative RMSE plot for LR & RF')\n",
    "grid(True)\n",
    "show()"
   ]
  },
  {
   "cell_type": "code",
   "execution_count": null,
   "metadata": {
    "collapsed": false
   },
   "outputs": [],
   "source": [
    "# grid find best hyperparameter for RF\n",
    "# from sklearn.model_selection import GridSearchCV\n",
    "\n",
    "# param_grid = [\n",
    "#     {'n_estimators': [3, 10, 30], 'max_features': [2, 4, 6]},\n",
    "#     {'bootstrap': [False], 'n_estimators': [3, 10], 'max_features': [2, 3, 4]},\n",
    "#   ]\n",
    "\n",
    "# forest_reg = RandomForestRegressor()\n",
    "\n",
    "# grid_search = GridSearchCV(forest_reg, param_grid, cv=10,\n",
    "#                            scoring='neg_mean_squared_error')\n",
    "\n",
    "# box=[]\n",
    "# for i in station_id_set:\n",
    "#     a=df_dayloss[df_dayloss['station_id']==i]\n",
    "#     X=a.ix[:,5:11]\n",
    "#     y=a.ix[:,4]\n",
    "#     try:\n",
    "#         grid_search.fit(X, y)\n",
    "#         box.append(grid_search.best_params_)\n",
    "#     except:\n",
    "#         continue\n"
   ]
  },
  {
   "cell_type": "code",
   "execution_count": 23,
   "metadata": {
    "collapsed": false
   },
   "outputs": [],
   "source": [
    "# Feature Importance using RF(If needed) \n",
    "# from sklearn.ensemble import RandomForestRegressor\n",
    "# for i in station_id_set:\n",
    "#     a=df_dayloss[df_dayloss['station_id']==i]\n",
    "#     X=a.ix[:,5:11]\n",
    "#     Y=a.ix[:,4]# Assign features to be X and target to be Y.\n",
    "#     rf = RandomForestRegressor()\n",
    "#     rf.fit(X, Y)\n",
    "#     print rf.feature_importances_"
   ]
  },
  {
   "cell_type": "code",
   "execution_count": 24,
   "metadata": {
    "collapsed": false
   },
   "outputs": [],
   "source": [
    "# Feacture Importance continue\n",
    "# names = 'wek_index','holiday_idx','High_temp','clear','rain','snow'\n",
    "# names = np.array(names)\n",
    "# #sorted(zip(names, rf.feature_importances_),key=lambda x: x[1],reverse=True)\n",
    "# sorted(zip(names, rlasso.scores_),key=lambda x: x[1],reverse=True)"
   ]
  },
  {
   "cell_type": "markdown",
   "metadata": {
    "collapsed": false
   },
   "source": [
    "### training data split"
   ]
  },
  {
   "cell_type": "code",
   "execution_count": 405,
   "metadata": {
    "collapsed": false,
    "scrolled": true
   },
   "outputs": [],
   "source": [
    "dayloss_72 =df_dayloss[df_dayloss['station_id'] == 79]"
   ]
  },
  {
   "cell_type": "code",
   "execution_count": 53,
   "metadata": {
    "collapsed": false,
    "scrolled": true
   },
   "outputs": [
    {
     "name": "stderr",
     "output_type": "stream",
     "text": [
      "/Users/linzeyang/anaconda/envs/py2.7/lib/python2.7/site-packages/sklearn/cross_validation.py:44: DeprecationWarning: This module was deprecated in version 0.18 in favor of the model_selection module into which all the refactored classes and functions are moved. Also note that the interface of the new CV iterators are different from that of this module. This module will be removed in 0.20.\n",
      "  \"This module will be removed in 0.20.\", DeprecationWarning)\n"
     ]
    }
   ],
   "source": [
    "from sklearn.cross_validation import train_test_split\n",
    "import matplotlib.pyplot as plt\n",
    "%matplotlib inline"
   ]
  },
  {
   "cell_type": "code",
   "execution_count": 54,
   "metadata": {
    "collapsed": false
   },
   "outputs": [
    {
     "data": {
      "text/html": [
       "<div>\n",
       "<table border=\"1\" class=\"dataframe\">\n",
       "  <thead>\n",
       "    <tr style=\"text-align: right;\">\n",
       "      <th></th>\n",
       "      <th>wek_index</th>\n",
       "      <th>holiday_idx</th>\n",
       "      <th>docks</th>\n",
       "    </tr>\n",
       "  </thead>\n",
       "  <tbody>\n",
       "    <tr>\n",
       "      <th>1</th>\n",
       "      <td>4</td>\n",
       "      <td>0</td>\n",
       "      <td>34.0</td>\n",
       "    </tr>\n",
       "    <tr>\n",
       "      <th>2</th>\n",
       "      <td>5</td>\n",
       "      <td>0</td>\n",
       "      <td>34.0</td>\n",
       "    </tr>\n",
       "    <tr>\n",
       "      <th>3</th>\n",
       "      <td>6</td>\n",
       "      <td>0</td>\n",
       "      <td>34.0</td>\n",
       "    </tr>\n",
       "    <tr>\n",
       "      <th>4</th>\n",
       "      <td>0</td>\n",
       "      <td>0</td>\n",
       "      <td>34.0</td>\n",
       "    </tr>\n",
       "  </tbody>\n",
       "</table>\n",
       "</div>"
      ],
      "text/plain": [
       "   wek_index  holiday_idx  docks\n",
       "1          4            0   34.0\n",
       "2          5            0   34.0\n",
       "3          6            0   34.0\n",
       "4          0            0   34.0"
      ]
     },
     "execution_count": 54,
     "metadata": {},
     "output_type": "execute_result"
    }
   ],
   "source": [
    "# training data split\n",
    "X = dayloss_72[['wek_index','holiday_idx','docks']]\n",
    "y = dayloss_72['bike_loss']\n",
    "X_train, X_test, y_train, y_test = train_test_split(X, y, test_size = 0.25, random_state = 123)\n",
    "#y_train, y_test = cross_validation(y, test_size = 0.25, random_state = 123)\n",
    "X_train = X_train.sort_index()\n",
    "X_test = X_test.sort_index()\n",
    "y_train = y_train.sort_index()\n",
    "y_test = y_test.sort_index()\n",
    "X_train[1:5]"
   ]
  },
  {
   "cell_type": "code",
   "execution_count": 55,
   "metadata": {
    "collapsed": false
   },
   "outputs": [
    {
     "data": {
      "text/plain": [
       "[<matplotlib.lines.Line2D at 0x104d142d0>]"
      ]
     },
     "execution_count": 55,
     "metadata": {},
     "output_type": "execute_result"
    },
    {
     "data": {
      "image/png": "[encoded data removed]",
      "text/plain": [
       "<matplotlib.figure.Figure at 0x1110e8cd0>"
      ]
     },
     "metadata": {},
     "output_type": "display_data"
    }
   ],
   "source": [
    "plt.plot(dayloss_72.index, dayloss_72.bike_loss)"
   ]
  },
  {
   "cell_type": "markdown",
   "metadata": {},
   "source": [
    "### Lasso"
   ]
  },
  {
   "cell_type": "code",
   "execution_count": 56,
   "metadata": {
    "collapsed": false
   },
   "outputs": [],
   "source": [
    "from sklearn.linear_model import Lasso\n",
    "from sklearn.model_selection import KFold\n",
    "import numpy as np"
   ]
  },
  {
   "cell_type": "code",
   "execution_count": 57,
   "metadata": {
    "collapsed": true
   },
   "outputs": [],
   "source": [
    "import math\n",
    "def RMSPE(y, y_pred):\n",
    "    return math.sqrt( ((1- y_pred / y)**2).mean() )"
   ]
  },
  {
   "cell_type": "code",
   "execution_count": 58,
   "metadata": {
    "collapsed": false
   },
   "outputs": [],
   "source": [
    "def test_lasso(alphas):\n",
    "    scores_lasso = []\n",
    "    kf = KFold(n_splits=10, random_state = 123)\n",
    "    \n",
    "    for alpha in alphas:\n",
    "        lasso = Lasso(alpha)\n",
    "        for train, val in kf.split(X_train):\n",
    "            score_cv = []\n",
    "            y_pred = lasso.fit(X_train.values[train],y_train.values[train]).predict(X_train.values[val])\n",
    "            score_cv.append(RMSPE(y_train.values[val], y_pred))\n",
    "            score = np.mean(score_cv)\n",
    "        scores_lasso.append(score)\n",
    "    \n",
    "    plt.figure(figsize=(14,8))\n",
    "    cv_lasso = pd.Series(scores_lasso, index = alphas)\n",
    "    cv_lasso.plot(title = \"Validation - Lasso\")\n",
    "    plt.xlabel(\"alpha\")\n",
    "    plt.ylabel(\"RMSPE\")\n",
    "    print(cv_lasso.argmin())"
   ]
  },
  {
   "cell_type": "code",
   "execution_count": 75,
   "metadata": {
    "collapsed": false
   },
   "outputs": [
    {
     "name": "stderr",
     "output_type": "stream",
     "text": [
      "/Users/xiaowan/anaconda/envs/py27/lib/python2.7/site-packages/ipykernel/__main__.py:3: RuntimeWarning: divide by zero encountered in divide\n",
      "  app.launch_new_instance()\n"
     ]
    },
    {
     "name": "stdout",
     "output_type": "stream",
     "text": [
      "20.0\n"
     ]
    },
    {
     "data": {
      "image/png": "[encoded data removed]",
      "text/plain": [
       "<matplotlib.figure.Figure at 0x11ea1f250>"
      ]
     },
     "metadata": {},
     "output_type": "display_data"
    }
   ],
   "source": [
    "alphas = [1e-4, 1e-3,1e-2, 0.1, 1, 5, 10, 20]\n",
    "test_lasso(alphas)"
   ]
  },
  {
   "cell_type": "code",
   "execution_count": 76,
   "metadata": {
    "collapsed": false
   },
   "outputs": [
    {
     "name": "stderr",
     "output_type": "stream",
     "text": [
      "/Users/xiaowan/anaconda/envs/py27/lib/python2.7/site-packages/ipykernel/__main__.py:3: RuntimeWarning: divide by zero encountered in divide\n",
      "  app.launch_new_instance()\n"
     ]
    },
    {
     "name": "stdout",
     "output_type": "stream",
     "text": [
      "12\n"
     ]
    },
    {
     "data": {
      "image/png": "[encoded data removed]",
      "text/plain": [
       "<matplotlib.figure.Figure at 0x11eaf2c50>"
      ]
     },
     "metadata": {},
     "output_type": "display_data"
    }
   ],
   "source": [
    "alphas = [10, 12, 14, 18, 20]\n",
    "test_lasso(alphas)"
   ]
  },
  {
   "cell_type": "code",
   "execution_count": 77,
   "metadata": {
    "collapsed": false,
    "scrolled": false
   },
   "outputs": [
    {
     "name": "stderr",
     "output_type": "stream",
     "text": [
      "/Users/xiaowan/anaconda/envs/py27/lib/python2.7/site-packages/ipykernel/__main__.py:3: RuntimeWarning: divide by zero encountered in divide\n",
      "  app.launch_new_instance()\n"
     ]
    },
    {
     "name": "stdout",
     "output_type": "stream",
     "text": [
      "10.5\n"
     ]
    },
    {
     "data": {
      "image/png": "[encoded data removed]",
      "text/plain": [
       "<matplotlib.figure.Figure at 0x11ee3a5d0>"
      ]
     },
     "metadata": {},
     "output_type": "display_data"
    }
   ],
   "source": [
    "alphas = [10, 10.5, 11, 11.25, 11.5, 11.75, 12, 12.25, 12.5, 13]\n",
    "test_lasso(alphas)"
   ]
  },
  {
   "cell_type": "code",
   "execution_count": 78,
   "metadata": {
    "collapsed": false
   },
   "outputs": [
    {
     "name": "stderr",
     "output_type": "stream",
     "text": [
      "/Users/xiaowan/anaconda/envs/py27/lib/python2.7/site-packages/ipykernel/__main__.py:3: RuntimeWarning: divide by zero encountered in divide\n",
      "  app.launch_new_instance()\n"
     ]
    },
    {
     "name": "stdout",
     "output_type": "stream",
     "text": [
      "10.2\n"
     ]
    },
    {
     "data": {
      "image/png": "[encoded data removed]",
      "text/plain": [
       "<matplotlib.figure.Figure at 0x11eaf2950>"
      ]
     },
     "metadata": {},
     "output_type": "display_data"
    }
   ],
   "source": [
    "alphas = [10, 10.10,10.15, 10.20, 10.25, 10.30,10.40,10.55,10.7]\n",
    "test_lasso(alphas)"
   ]
  },
  {
   "cell_type": "code",
   "execution_count": 79,
   "metadata": {
    "collapsed": false
   },
   "outputs": [
    {
     "name": "stderr",
     "output_type": "stream",
     "text": [
      "/Users/xiaowan/anaconda/envs/py27/lib/python2.7/site-packages/ipykernel/__main__.py:3: RuntimeWarning: divide by zero encountered in divide\n",
      "  app.launch_new_instance()\n"
     ]
    }
   ],
   "source": [
    "lasso = Lasso(alpha=10.2)\n",
    "scores_lasso = []\n",
    "kf = KFold(n_splits=10, random_state = 123)\n",
    "    \n",
    "for alpha in alphas:\n",
    "    lasso = Lasso(alpha)\n",
    "    for train, val in kf.split(X_train):\n",
    "        score_cv = []\n",
    "        y_pred = lasso.fit(X_train.values[train],y_train.values[train]).predict(X_train.values[val])\n",
    "        score_cv.append(RMSPE(y_train.values[val], y_pred))\n",
    "        score = np.mean(score_cv)\n",
    "    scores_lasso.append(score)"
   ]
  },
  {
   "cell_type": "code",
   "execution_count": 80,
   "metadata": {
    "collapsed": false
   },
   "outputs": [
    {
     "data": {
      "text/plain": [
       "array([ 2.33333333,  2.33333333])"
      ]
     },
     "execution_count": 80,
     "metadata": {},
     "output_type": "execute_result"
    }
   ],
   "source": [
    "# prediction of bike loss of station 72\n",
    "y_pred"
   ]
  }
 ],
 "metadata": {
  "anaconda-cloud": {},
  "kernelspec": {
   "display_name": "Python [conda env:py2.7]",
   "language": "python",
   "name": "conda-env-py2.7-py"
  },
  "language_info": {
   "codemirror_mode": {
    "name": "ipython",
    "version": 2
   },
   "file_extension": ".py",
   "mimetype": "text/x-python",
   "name": "python",
   "nbconvert_exporter": "python",
   "pygments_lexer": "ipython2",
   "version": "2.7.13"
  }
 },
 "nbformat": 4,
 "nbformat_minor": 0
}
